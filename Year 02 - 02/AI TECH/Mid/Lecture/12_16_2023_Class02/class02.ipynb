{
 "cells": [
  {
   "cell_type": "markdown",
   "metadata": {},
   "source": [
    "## **Class 02: Object-oriented Programming (OOP)**"
   ]
  },
  {
   "cell_type": "markdown",
   "metadata": {},
   "source": [
    "### **Properties**\n",
    "- *method* -> local function\n",
    "- *attribute* -> local variables\n",
    "\n",
    "### **Initiation**\n",
    "\n",
    "Class initiation\n",
    "\n",
    "``` class A() ```\n",
    "\n",
    "Create a *instance/object* to hold the properties of the class; **a**\n",
    "\n",
    "``` a = A() ```\n",
    "\n",
    "### **Naming Rules**\n",
    "- *class* -> start with **cap-lock**\n",
    "- *function & variable* -> start with small letter"
   ]
  },
  {
   "cell_type": "markdown",
   "metadata": {},
   "source": [
    "## **Class 02: Linear Regression**"
   ]
  },
  {
   "cell_type": "markdown",
   "metadata": {},
   "source": [
    "### **General**\n",
    "- main equation: **y = mx + c**\n",
    "- link to doc: https://scikit-learn.org/stable/modules/generated/sklearn.linear_model.LinearRegression.html\n",
    "\n",
    "### **Init Parameter**\n",
    "**fit_intercept:**\n",
    "- *True* -> vary c\n",
    "- *False* -> c is 0\n",
    "**cmd**\n",
    "mode = sklern.linear_model.LinearRegression()\n",
    "\n",
    "### **Usage**\n",
    "- precidction ```y = model.predict(x)``` -> *function*\n",
    "- get equation ```model.coeff_``` -> *attribute*"
   ]
  }
 ],
 "metadata": {
  "kernelspec": {
   "display_name": "whaly",
   "language": "python",
   "name": "python3"
  },
  "language_info": {
   "codemirror_mode": {
    "name": "ipython",
    "version": 3
   },
   "file_extension": ".py",
   "mimetype": "text/x-python",
   "name": "python",
   "nbconvert_exporter": "python",
   "pygments_lexer": "ipython3",
   "version": "3.9.18"
  }
 },
 "nbformat": 4,
 "nbformat_minor": 2
}
